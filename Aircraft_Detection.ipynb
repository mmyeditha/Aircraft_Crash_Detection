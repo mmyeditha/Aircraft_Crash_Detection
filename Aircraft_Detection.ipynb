{
  "nbformat": 4,
  "nbformat_minor": 0,
  "metadata": {
    "accelerator": "GPU",
    "colab": {
      "name": "Aircraft Detection.ipynb",
      "provenance": [],
      "collapsed_sections": []
    },
    "kernelspec": {
      "display_name": "Python 3",
      "name": "python3"
    },
    "language_info": {
      "name": "python"
    }
  },
  "cells": [
    {
      "cell_type": "markdown",
      "metadata": {
        "id": "u6GzpTM-K97m"
      },
      "source": [
        "#Missing Aircraft Detection\n",
        "## By: Merwan Yeditha & Rohith Tatineni"
      ]
    },
    {
      "cell_type": "markdown",
      "metadata": {
        "id": "MAaiLQ6UxnI8"
      },
      "source": [
        "# Introduction\n",
        "The purpose of this notebook is to develop a Computer Vision Algorithm using a Convolutional Neural Network (CNN) that aids in the detection of missing airplanes. This algorithm will look at 20 pixels by 20 pixels satelliete images of various terrains containing an airplane. We believe that a computer vision algorithm is optimal for this task as it could greatly speed up the time it takes for search and rescrue teams to locate a missing aircraft by quickly parsing through satelliete images. \n",
        "\n",
        "We were particularly interested in this dataset as we want a final product with a potential for having a real positive impact on the world. Our algorithm can be used as a tool by search and rescue teams to help save lives. . We believe that the algorithm needs to achieve an accuracy of atleast 75% in order to be an effective tool. We would want an accuracy level this large because we do not want to mislead search and rescue teams and have them waste time and resources looking in the wrong area. In order to determine how well our data works, we will run the model against 1280 images it has not trained with and see how accurately it preforms. There are certain implications associated with this type of tool. Since the results of this tool could potentially decide the faith of someone's life, it is important for those using this algorithm to understand that this tool is not meant to make the final decision but instead reduce the time it takes to get to a final decision. The stakeholders of this algorithm consist of two parties, the search teams and the passengers of the missing plane."
      ]
    },
    {
      "cell_type": "code",
      "metadata": {
        "id": "iO6jUoPMmLN6"
      },
      "source": [
        "#Import statements for the libraries needed for this project\n",
        "import gdown\n",
        "import sys\n",
        "import cv2\n",
        "import os\n",
        "import pandas as pd\n",
        "import numpy as np\n",
        "import matplotlib.pyplot as plt\n",
        "import seaborn as sns"
      ],
      "execution_count": null,
      "outputs": []
    },
    {
      "cell_type": "code",
      "metadata": {
        "id": "SwtQ7rp1sqV8"
      },
      "source": [
        "#Import statement for pytorch\n",
        "! pip install torchviz\n",
        "import torch\n",
        "torch.cuda.get_device_name(0)"
      ],
      "execution_count": null,
      "outputs": []
    },
    {
      "cell_type": "code",
      "metadata": {
        "id": "2a2eyEfJQmmj"
      },
      "source": [
        "#Downloading the Dataset\n",
        "gdown.download('https://drive.google.com/uc?authuser=0&id=16VuTHj77dRPXEzLsZu8u_chWOlaamLb7&export=download', 'archive.zip', quiet=True)\n",
        "! unzip -q archive.zip"
      ],
      "execution_count": null,
      "outputs": []
    },
    {
      "cell_type": "code",
      "metadata": {
        "id": "xkyXOG7ckfxo"
      },
      "source": [
        "#Copy model path from github\n",
        "! git clone https://github.com/mmyeditha/Aircraft_Crash_Detection.git"
      ],
      "execution_count": null,
      "outputs": []
    },
    {
      "cell_type": "code",
      "metadata": {
        "id": "0814u7BuQmmk"
      },
      "source": [
        "#Insert the saved model path\n",
        "sys.path.insert(1, 'Aircraft_Crash_Detection')"
      ],
      "execution_count": null,
      "outputs": []
    },
    {
      "cell_type": "markdown",
      "metadata": {
        "id": "YNXqPqArQmmk"
      },
      "source": [
        "# Dataset\n",
        "The dataset we are using is from Kaggle and is titled \"Missing Aircrafts\". This dataset contains a total of 32080 images. Each image is 20 pixels by 20 pixels. There are 31080 training images which are catagorized as containing (1) or not containing (0) an airplane. 1000 test images are also provided where it is known that 200 of them contain airplanes."
      ]
    },
    {
      "cell_type": "markdown",
      "metadata": {
        "id": "5G0bpU2pQmmk"
      },
      "source": [
        "## Dataset Investigation\n",
        "\n",
        "After looking at our dataset, it appears that 'train.csv' contains two columns, one listing an image name and the other listing whether there is an aircraft present or not. The testing set has a similarly labeled csv file. \n",
        "\n",
        "It appears that our inputs will be the 400 pixels in these images, and the output will be a prediction of the probability that a plane exists \n",
        "in the image.\n",
        "\n",
        "Below is a sample of a few of the images in our dataset along with their corresponding labels\n",
        "\n"
      ]
    },
    {
      "cell_type": "code",
      "metadata": {
        "colab": {
          "base_uri": "https://localhost:8080/",
          "height": 299
        },
        "id": "b9U2uv1cHFTq",
        "outputId": "d0d191ab-713a-4a82-bd02-e2609b244324"
      },
      "source": [
        "data_label = pd.read_csv('train.csv')\n",
        "imgs = ['avia_train/avia-train/'+x+'.png' for x in data_label.iloc[0:4,1].values]\n",
        "labels = [x for x in data_label.iloc[0:4,0].values]\n",
        "plt.subplot(321)\n",
        "plt.imshow(cv2.imread(imgs[0]))\n",
        "plt.title(labels[0])\n",
        "plt.subplot(322)\n",
        "plt.imshow(cv2.imread(imgs[1]))\n",
        "plt.title(labels[1])\n",
        "plt.subplot(325)\n",
        "plt.imshow(cv2.imread(imgs[2]))\n",
        "plt.title(labels[2])\n",
        "plt.subplot(326)\n",
        "plt.imshow(cv2.imread(imgs[3]))\n",
        "plt.title(labels[3])"
      ],
      "execution_count": null,
      "outputs": [
        {
          "output_type": "execute_result",
          "data": {
            "text/plain": [
              "Text(0.5, 1.0, '1')"
            ]
          },
          "metadata": {},
          "execution_count": 7
        },
        {
          "output_type": "display_data",
          "data": {
            "image/png": "[encoded data removed]",
            "text/plain": [
              "<Figure size 432x288 with 4 Axes>"
            ]
          },
          "metadata": {
            "needs_background": "light"
          }
        }
      ]
    },
    {
      "cell_type": "markdown",
      "metadata": {
        "id": "k5ybWCfFJCBp"
      },
      "source": [
        "Something that we noticed when looking at small samples of the labels for all of our data was that there seemed to be far more images with no aircraft present than images with an aircraft present. To test this, we looked through our training csv file and counted the number of total images with no aircraft and the number of total images with an aircraft."
      ]
    },
    {
      "cell_type": "code",
      "metadata": {
        "colab": {
          "base_uri": "https://localhost:8080/",
          "height": 335
        },
        "id": "pTHdiZQCGg4i",
        "outputId": "da6ae88e-2141-4969-dd94-17229f12c689"
      },
      "source": [
        "data_label = pd.read_csv('train.csv')\n",
        "\n",
        "sns.countplot(data_label.sign)\n",
        "plt.xticks(ticks=range(2), labels=[f'No Aircraft ({sum(data_label.sign==0)})',f'Aircraft ({sum(data_label.sign==1)})'])\n",
        "plt.xlabel('Classification')\n",
        "plt.show()\n"
      ],
      "execution_count": null,
      "outputs": [
        {
          "output_type": "stream",
          "name": "stderr",
          "text": [
            "/usr/local/lib/python3.7/dist-packages/seaborn/_decorators.py:43: FutureWarning: Pass the following variable as a keyword arg: x. From version 0.12, the only valid positional argument will be `data`, and passing other arguments without an explicit keyword will result in an error or misinterpretation.\n",
            "  FutureWarning\n"
          ]
        },
        {
          "output_type": "display_data",
          "data": {
            "image/png": "[encoded data removed]",
            "text/plain": [
              "<Figure size 432x288 with 1 Axes>"
            ]
          },
          "metadata": {
            "needs_background": "light"
          }
        }
      ]
    },
    {
      "cell_type": "markdown",
      "metadata": {
        "id": "iMizce__JmgD"
      },
      "source": [
        "As can be seen above, there are far more images that exist without an aircraft present. This skew in the training data may create bias in the model that will lead it to be more prone to predicting that an aircraft isn't present. In order to fix this though, we can train our model on a balanced subset of our data."
      ]
    },
    {
      "cell_type": "markdown",
      "metadata": {
        "id": "WSoKe4BfQmml"
      },
      "source": [
        "### Balancing the Dataset\n",
        "To balance our data, we wrote an `organize_data` function that looks through all of the labels and corresponding image names and sorts an equal number of aircraft and non-aircraft images in test and validation folders.\n"
      ]
    },
    {
      "cell_type": "code",
      "metadata": {
        "id": "r4wcrrR6Qmml"
      },
      "source": [
        "from organize_data import organize_data\n",
        "organize_data(6400, 640)"
      ],
      "execution_count": null,
      "outputs": []
    },
    {
      "cell_type": "code",
      "metadata": {
        "id": "BscrMXu3Qmml"
      },
      "source": [
        "# turn label data into dictionary\n",
        "data_label = pd.read_csv('train.csv')\n",
        "data_label.iloc[:,1].values.tolist()\n",
        "data_dict = dict(zip(data_label.iloc[:,1].values.tolist(), data_label.iloc[:,0].values.tolist()))\n",
        "\n",
        "# check that files look right\n",
        "print(len(os.listdir('train_set')), len(os.listdir('val_set')))\n",
        "print(data_dict)"
      ],
      "execution_count": null,
      "outputs": []
    },
    {
      "cell_type": "markdown",
      "metadata": {
        "id": "EeMVNY-1Qmml"
      },
      "source": [
        "# Logistic Regression\n",
        "Before jumping into creating a CNN, we first wanted to validate that a model of such complexity was neccesary to achieve the level of accuracy we felt was neccesary. In order to do this, we wanted to create a Logistic-Regression model. Using the Sci-Kit Toolbox we created and evelauted a  Logistic-Regression model."
      ]
    },
    {
      "cell_type": "markdown",
      "metadata": {
        "id": "E4t3pMR0Qmml"
      },
      "source": [
        "### Dataset Manipulation\n",
        "In order to use the data, we need to manipulate it to be in the right form. We first need to flatten these images and stack them into a numpy array. Since the images are 20x20 and there are 1000 images, the array will be 1000x400"
      ]
    },
    {
      "cell_type": "code",
      "metadata": {
        "id": "hIkpp0ngQmmm"
      },
      "source": [
        "# Process training data\n",
        "train_set = os.listdir('avia_train/avia-train')\n",
        "X = np.zeros([31080,400])\n",
        "for i, image in enumerate(train_set):\n",
        "  img_arr = cv2.imread(f'avia_train/avia-train/{image}')\n",
        "  img_gray = cv2.cvtColor(img_arr, cv2.COLOR_BGR2GRAY)\n",
        "  img_flat = np.reshape(img_gray, [400])\n",
        "  X[i, :] = img_flat.transpose()\n",
        "\n",
        "Y = np.genfromtxt ('train.csv', delimiter=\",\")[1:,0]"
      ],
      "execution_count": null,
      "outputs": []
    },
    {
      "cell_type": "markdown",
      "metadata": {
        "id": "jCH9K-eUQmmm"
      },
      "source": [
        "### Principal Component Analysis\n",
        "We ran a Principal Component Analysis (PCA) on this data in order to reduce the amount of datapoints per image. This will result in the logistic-regression model running faster but with similar levels of accuracy."
      ]
    },
    {
      "cell_type": "code",
      "metadata": {
        "id": "D0d9h-aLQmmm"
      },
      "source": [
        "from sklearn.decomposition import PCA\n",
        "# Running PCA on testing data\n",
        "X.shape\n",
        "pca = PCA(n_components=25)\n",
        "# applying dimensionality reduction for 30 most important components\n",
        "fitted = pca.fit_transform(X)"
      ],
      "execution_count": null,
      "outputs": []
    },
    {
      "cell_type": "markdown",
      "metadata": {
        "id": "KR78OtEiQmmm"
      },
      "source": [
        "### Creating and Evaluating the model\n",
        "Using the Sci-Kit Toolbox, we were able to split the dataset into a training and testing datasets. We then created the model and generated a confusion matrix to evaluate how well the model performed. We found that this model did not work well as it would always guess that there was no plane present."
      ]
    },
    {
      "cell_type": "code",
      "metadata": {
        "id": "ebErebvGQmmm"
      },
      "source": [
        "# train/test split\n",
        "from sklearn.model_selection import train_test_split\n",
        "X_train, X_test, y_train, y_test = train_test_split(fitted, Y, test_size=0.33, random_state=42)"
      ],
      "execution_count": null,
      "outputs": []
    },
    {
      "cell_type": "code",
      "metadata": {
        "id": "Ip6umCT1Qmmn"
      },
      "source": [
        "# train the model\n",
        "from sklearn.linear_model import LogisticRegression\n",
        "clf=LogisticRegression(max_iter=10000000000,C=0.01).fit(X_train, y_train)\n",
        "clf = clf.fit(X_train, y_train)\n",
        "y_pred=clf.predict(X_test)"
      ],
      "execution_count": null,
      "outputs": []
    },
    {
      "cell_type": "code",
      "metadata": {
        "id": "aL83WQRVQmmn",
        "colab": {
          "base_uri": "https://localhost:8080/",
          "height": 297
        },
        "outputId": "5b502a58-8009-4653-fb7d-d82f850e7ba4"
      },
      "source": [
        "# baby metric\n",
        "from sklearn.metrics import accuracy_score\n",
        "acc=accuracy_score(y_test, y_pred)\n",
        "acc\n",
        "\n",
        "# confusion matrix\n",
        "from sklearn.metrics import plot_confusion_matrix\n",
        "class_names=list(range(10)) # Gets names of each column.\n",
        "plot_confusion_matrix(clf, X_test, y_test, display_labels=class_names,cmap=plt.cm.Blues)"
      ],
      "execution_count": null,
      "outputs": [
        {
          "output_type": "execute_result",
          "data": {
            "text/plain": [
              "<sklearn.metrics._plot.confusion_matrix.ConfusionMatrixDisplay at 0x7f059cd49d90>"
            ]
          },
          "metadata": {},
          "execution_count": 18
        },
        {
          "output_type": "display_data",
          "data": {
            "image/png": "[encoded data removed]",
            "text/plain": [
              "<Figure size 432x288 with 2 Axes>"
            ]
          },
          "metadata": {
            "needs_background": "light"
          }
        }
      ]
    },
    {
      "cell_type": "markdown",
      "metadata": {
        "id": "ggfTfeWeQmmn"
      },
      "source": [
        "It is interesting to look at the confusion matrix for this Linear-Regression model. It depicts how insufficient linear-regression is for this dataset as the model always guesses that there is no plane in the image. This showcases the need for a different type of model."
      ]
    },
    {
      "cell_type": "markdown",
      "metadata": {
        "id": "o16PD2avQmmn"
      },
      "source": [
        "# Running through a CNN\n",
        "\n",
        "After determining that a CNN was neccesary, we used Pytorch to create a CNN.\n",
        "\n",
        "## Creating a Dataset Class\n",
        "\n",
        "In order to use our data with PyTorch, we first had to create a dataset class and dataloader. We used pandas and open CV to format the data."
      ]
    },
    {
      "cell_type": "code",
      "metadata": {
        "colab": {
          "base_uri": "https://localhost:8080/"
        },
        "id": "2wgAi2enQmmn",
        "outputId": "bf846015-763d-4322-eb50-4a818863cf63"
      },
      "source": [
        "import os\n",
        "from dataloader import AirplaneCrashDataset\n",
        "# sample output of the dataloader\n",
        "loader_test = AirplaneCrashDataset(data_dict, split_set='train')\n",
        "loader_test.__getitem__(12)"
      ],
      "execution_count": null,
      "outputs": [
        {
          "output_type": "execute_result",
          "data": {
            "text/plain": [
              "{'image': array([[[0.7411765 , 0.7411765 , 0.7607843 , ..., 0.7764706 ,\n",
              "          0.78039217, 0.78039217],\n",
              "         [0.72156864, 0.73333335, 0.7529412 , ..., 0.7529412 ,\n",
              "          0.7529412 , 0.7372549 ],\n",
              "         [0.7058824 , 0.73333335, 0.7372549 , ..., 0.7372549 ,\n",
              "          0.7294118 , 0.7137255 ],\n",
              "         ...,\n",
              "         [0.654902  , 0.6       , 0.62352943, ..., 0.6039216 ,\n",
              "          0.49803922, 0.42352942],\n",
              "         [0.3764706 , 0.38431373, 0.35686275, ..., 0.5803922 ,\n",
              "          0.5764706 , 0.5686275 ],\n",
              "         [0.42352942, 0.49803922, 0.5254902 , ..., 0.7647059 ,\n",
              "          0.7294118 , 0.7490196 ]],\n",
              " \n",
              "        [[0.8117647 , 0.81960785, 0.8352941 , ..., 0.8627451 ,\n",
              "          0.8666667 , 0.85882354],\n",
              "         [0.7921569 , 0.8117647 , 0.83137256, ..., 0.8352941 ,\n",
              "          0.8352941 , 0.8156863 ],\n",
              "         [0.7764706 , 0.8117647 , 0.8235294 , ..., 0.8117647 ,\n",
              "          0.8117647 , 0.79607844],\n",
              "         ...,\n",
              "         [0.7607843 , 0.7137255 , 0.7411765 , ..., 0.6627451 ,\n",
              "          0.57254905, 0.5019608 ],\n",
              "         [0.4862745 , 0.4862745 , 0.48235294, ..., 0.6627451 ,\n",
              "          0.6627451 , 0.67058825],\n",
              "         [0.5254902 , 0.58431375, 0.61960787, ..., 0.8509804 ,\n",
              "          0.8117647 , 0.8509804 ]],\n",
              " \n",
              "        [[0.8745098 , 0.8862745 , 0.9019608 , ..., 0.92941177,\n",
              "          0.93333334, 0.9254902 ],\n",
              "         [0.8509804 , 0.87058824, 0.89411765, ..., 0.9019608 ,\n",
              "          0.9019608 , 0.8784314 ],\n",
              "         [0.8352941 , 0.87058824, 0.8862745 , ..., 0.8784314 ,\n",
              "          0.8784314 , 0.85882354],\n",
              "         ...,\n",
              "         [0.84313726, 0.7882353 , 0.81960785, ..., 0.69803923,\n",
              "          0.5921569 , 0.5137255 ],\n",
              "         [0.5254902 , 0.5411765 , 0.5411765 , ..., 0.7137255 ,\n",
              "          0.7137255 , 0.73333335],\n",
              "         [0.5647059 , 0.6431373 , 0.6862745 , ..., 0.9372549 ,\n",
              "          0.88235295, 0.9372549 ]]], dtype=float32), 'label': 1}"
            ]
          },
          "metadata": {},
          "execution_count": 19
        }
      ]
    },
    {
      "cell_type": "markdown",
      "metadata": {
        "id": "YJfWFVbln0zy"
      },
      "source": [
        "It's a bit hard to see with how much output there is, but the output is a dictionary with keys 'image' and 'label', where the image label corresponds to the normalized RGB values of one of the aircraft images, and label contains a 1 or 0 to represent whether an aircraft is present or not."
      ]
    },
    {
      "cell_type": "markdown",
      "metadata": {
        "id": "2ZCDPyWrQmmn"
      },
      "source": [
        "### Defining and Creating the Convolutional Neural Network\n",
        "\n",
        "Using PyTorch we defined a CNN with 2 convulion layers, the first later with 32 kernels and the second with 12. We are using a GPU to compute our model since its faster processing times greatly expedites the optimization process. After defining the CNN, we created one and then initialized both the dataloader and dataset.\n",
        "\n",
        "### Our Model Architecture\n",
        "We began by developing a simple network which contained one convolutional layer followed by a pooling layer and two fully-connected layers. The convolutional layer would take in 128 kernels, then the pooling layer would reduce the overall dimensionality of the image to 128,000 total pixels (the original 20x20 images was 400,000). Then the fully connected layer would take in the 400,000 input neurons and output 64 neurons. The second fully connected layer would take in the 64 input neurons and output two, which correspond to the respective probability that an aircraft was either present or absent in the image.\n",
        "\n",
        "We realized that this initial setup did not make much sense for our data, as only a single convolutional layer with such a large number of kernels did not make much sense given that our initial images were already very small.\n",
        "\n",
        "We iterated by creating two convolutional layers which had 32 and 12 kernels respectively. This allowed for us to reduce the sizes of the images to 25 values after pooling, which we then inputted to the fully connected layers.\n",
        "\n",
        "Below is a snippet of our code representing the layers of our model.\n",
        "```\n",
        "num_kernels_conv1 = 32\n",
        "num_kernels_conv2 = 12\n",
        "self.conv1 = nn.Conv2d(3,num_kernels_conv1, kernel_size=3,\n",
        "  stride=1, padding=1)\n",
        "self.conv2 = nn.Conv2d(32, num_kernels_conv2, kernel_size=3,\n",
        "  stride=1, padding=1)\n",
        "self.pool_conv1 = nn.MaxPool2d(kernel_size=2, stride=2, padding=0)\n",
        "self.maxpool_output_size_conv1 = int(num_kernels_conv1 * 100) \n",
        "#int(num_kernels * (image_dims[1] / stride) * (image_dims[2] / stride))\n",
        "self.pool_conv2 = nn.MaxPool2d(kernel_size=2, stride=2, padding=0)\n",
        "self.maxpool_output_size_conv2 = int(num_kernels_conv2 * 25)\n",
        "\n",
        "fc1_size = 64\n",
        "self.fc1 = nn.Linear(self.maxpool_output_size_conv2, fc1_size)\n",
        "\n",
        "self.activation_func = torch.nn.Sigmoid()\n",
        "\n",
        "fc2_size = len(classes)\n",
        "self.fc2 = nn.Linear(fc1_size, fc2_size)\n",
        "```\n",
        "### Forward Pass\n",
        "In our model, our process for forward passes was quite simple. We would run the original data through the first convolutional layer, pool the results, and then run the pooled output through our activation function, for which we utilized the Sigmoid function. We repeated the same process for the second convolutional layer. After running our data through the convolutional layers, we flattened it and ran it through both fully connected layers, being sure to run through the activation function before feeding the first layer's output to the second.\n",
        "\n",
        "Below is the code of us initializing the network and passing it to the GPU. Passing the network to the GPU provides some output that shows the specific parameters we defined for each of our convolutional and fully connected layers.\n"
      ]
    },
    {
      "cell_type": "code",
      "metadata": {
        "id": "a802qEuFQmmo"
      },
      "source": [
        "from model import AirplaneCNN"
      ],
      "execution_count": null,
      "outputs": []
    },
    {
      "cell_type": "code",
      "metadata": {
        "id": "Krm4f1aJQmmo"
      },
      "source": [
        "#Creating the model\n",
        "net = AirplaneCNN()\n",
        "device = 'cuda'\n",
        "net.to(device) # 'cpu' if we want to not use the gpu"
      ],
      "execution_count": null,
      "outputs": []
    },
    {
      "cell_type": "markdown",
      "metadata": {
        "id": "JDBXTuocQmmo"
      },
      "source": [
        "### Training the Model\n",
        "We then began training the model. We optimized the model by manipulating the learning rate, the number of images in the training dataset, and the num of epochs. After several runs, we determined that a learning rate of 1 with 135 epochs determined an optimal result where the validation loss converged. We noticed that when we ran with more than 135 epochs, our training loss continued to decrease, but the validation loss would remain constant and even slightly increase, which showed us that the model was likely overtraining.\n",
        "\n",
        "In order to execute this step, we had to create dataloaders. The code we utilized to do so is shown below."
      ]
    },
    {
      "cell_type": "code",
      "metadata": {
        "id": "TCC28d0rtxyc"
      },
      "source": [
        "from torch.utils.data.sampler import SubsetRandomSampler\n",
        "from torch.utils.data import DataLoader\n",
        "# Initialize dataloader objects\n",
        "TRAIN_DATA = AirplaneCrashDataset(data_dict, split_set = 'train')\n",
        "TEST_DATA = AirplaneCrashDataset(data_dict, split_set='val')\n",
        "\n",
        "# Set the number of images to use\n",
        "n_training_samples = 6400\n",
        "n_test_samples = 1280\n",
        "\n",
        "# Create a sampler so that we can randomly sample images from test/val sets\n",
        "train_sampler = SubsetRandomSampler(\n",
        "    np.arange(n_training_samples, dtype=np.int64))\n",
        "test_sampler = SubsetRandomSampler(np.arange(n_test_samples, dtype=np.int64))\n",
        "\n",
        "# Create the torch dataloader objects\n",
        "train_loader = DataLoader(TRAIN_DATA, batch_size=32, sampler=train_sampler)\n",
        "test_loader = DataLoader(TEST_DATA, batch_size=32, sampler=test_sampler)"
      ],
      "execution_count": null,
      "outputs": []
    },
    {
      "cell_type": "code",
      "metadata": {
        "id": "ffoKt4BcQmmo"
      },
      "source": [
        "learning_rate = 1\n",
        "num_epochs = 135\n",
        "#Training the model\n",
        "from train_eval import train_model\n",
        "train_hist_x, test_hist_x, train_loss_hist, test_loss_hist = train_model(net, learning_rate, num_epochs, train_loader, test_loader, device)"
      ],
      "execution_count": null,
      "outputs": []
    },
    {
      "cell_type": "code",
      "metadata": {
        "id": "VMnQ-2USQmmo",
        "colab": {
          "base_uri": "https://localhost:8080/",
          "height": 279
        },
        "outputId": "486cc250-fca3-4a28-ddbb-7e2e9656c090"
      },
      "source": [
        "#Plotting Loss Versus Batch\n",
        "plt.plot(train_hist_x,train_loss_hist)\n",
        "plt.plot(test_hist_x,test_loss_hist)\n",
        "plt.legend(['train loss', 'validation loss'])\n",
        "plt.xlabel('Batch number')\n",
        "plt.ylabel('Loss')\n",
        "plt.show()"
      ],
      "execution_count": null,
      "outputs": [
        {
          "output_type": "display_data",
          "data": {
            "image/png": "[encoded data removed]",
            "text/plain": [
              "<Figure size 432x288 with 1 Axes>"
            ]
          },
          "metadata": {
            "needs_background": "light"
          }
        }
      ]
    },
    {
      "cell_type": "markdown",
      "metadata": {
        "id": "zBVMe4O5Qmmp"
      },
      "source": [
        "It is interesting to look at this graph of the train loss and validation loss over each epoch. This graph confirms that the model is not overfitted as both losses decrease. It is shows that more than 100 epochs are needed to maximize the accuracy of the model."
      ]
    },
    {
      "cell_type": "markdown",
      "metadata": {
        "id": "P3vkTyfDQmmp"
      },
      "source": [
        "### Evaluating the Model\n",
        "\n",
        "In order to evaluate the model, we created an evaluation script and ran the model on the validation data, saving the number of accurate predictions."
      ]
    },
    {
      "cell_type": "code",
      "metadata": {
        "id": "cfdmiPf_Qmmp"
      },
      "source": [
        "from torch.autograd import Variable\n",
        "def eval_model(net, test_loader, batch_size, device):\n",
        "    net.eval()\n",
        "    actuals = []\n",
        "    preds = []\n",
        "    for i, data in enumerate(test_loader):\n",
        "        inputs = data['image']\n",
        "        labels = data['label']\n",
        "        inputs, labels = Variable(inputs).to(device), Variable(labels).to(device)\n",
        "        outputs = net(inputs)\n",
        "\n",
        "        for i in range(batch_size):\n",
        "            img_tensor = outputs[i, :].cpu().detach().numpy()\n",
        "            label = labels[i].cpu().detach().numpy()\n",
        "            pred = np.where(img_tensor == (max(img_tensor)))[0][0]\n",
        "            preds.append(pred)\n",
        "            actuals.append(label)\n",
        "    return preds, actuals\n",
        "preds, actuals = eval_model(net, test_loader, 32, device)"
      ],
      "execution_count": null,
      "outputs": []
    },
    {
      "cell_type": "markdown",
      "metadata": {
        "id": "mxCkqC3F18ka"
      },
      "source": [
        "Using these values, we can calculate the total accuracy and create a confusion matrix, which should tell us about our model's overall performance."
      ]
    },
    {
      "cell_type": "code",
      "metadata": {
        "id": "R-y2At7WQmmq",
        "colab": {
          "base_uri": "https://localhost:8080/",
          "height": 519
        },
        "outputId": "ef565599-5c58-4ce7-a5fc-2a21b0e271c6"
      },
      "source": [
        "from sklearn import metrics\n",
        "conf_matrix = metrics.confusion_matrix(actuals, preds)\n",
        "acc = metrics.accuracy_score(actuals, preds)\n",
        "fig, ax = plt.subplots(figsize=(7.5, 7.5))\n",
        "ax.matshow(conf_matrix, cmap=plt.cm.Blues, alpha=0.3)\n",
        "for i in range(conf_matrix.shape[0]):\n",
        "    for j in range(conf_matrix.shape[1]):\n",
        "        ax.text(x=j, y=i,s=conf_matrix[i, j], va='center', ha='center', size='xx-large')\n",
        " \n",
        "plt.xlabel('Predictions', fontsize=18)\n",
        "plt.ylabel('Actuals', fontsize=18)\n",
        "plt.title('Confusion Matrix', fontsize=18)\n",
        "plt.show()\n",
        "print(acc)"
      ],
      "execution_count": null,
      "outputs": [
        {
          "output_type": "display_data",
          "data": {
            "image/png": "[encoded data removed]",
            "text/plain": [
              "<Figure size 540x540 with 1 Axes>"
            ]
          },
          "metadata": {
            "needs_background": "light"
          }
        },
        {
          "output_type": "stream",
          "name": "stdout",
          "text": [
            "0.9546875\n"
          ]
        }
      ]
    },
    {
      "cell_type": "markdown",
      "metadata": {
        "id": "tuqp-NmuQmmq"
      },
      "source": [
        "We found that overall, the model had an accuracy of 95%. \n",
        "\n",
        "\n",
        "Something interesting we found is that the model was more likely to have a false negative compared to a false positive which is negative error to have in our case. It is more beneficial to have a false positive and have a search team look in an area and not find a place versus having a search team not look in a place where there is a missing plane."
      ]
    },
    {
      "cell_type": "markdown",
      "metadata": {
        "id": "l3RfOlKu2GfH"
      },
      "source": [
        "Finally, we will save the current model weights so that they can be used for future inferences without having to fully re-train the model."
      ]
    },
    {
      "cell_type": "code",
      "metadata": {
        "id": "HQfB-va22Oxx"
      },
      "source": [
        "import torch\n",
        "torch.save(net.state_dict(), 'checkpoint.pth')"
      ],
      "execution_count": null,
      "outputs": []
    },
    {
      "cell_type": "markdown",
      "metadata": {
        "id": "-zsVgFc9Qmmr"
      },
      "source": [
        "# Conclusion\n",
        "\n",
        "The model we developed is effective in finding a missing plane via satelliete imaging according to our parameters. The model achieved an accuracy of 95% which is greater than the 75% threshold we set. Our model would effectively aid in the search as is can parse through images at a rate of over 1000 a second but there are limitations. The model is currently trained on relatively small images where as typical satelliete data is much larger. Retraining the model the with larger images would require significant modifications to the CNN, as additional convolutional layers would be neccesary. Our dataset is also limited to just a generic commerical airliners which all have the same relative shape and color. With a broader dataset and some modifications, this alogirthm would be far more effective and could take on a greater share of the responisibility when making these critical decisions of where to search for survivors."
      ]
    }
  ]
}